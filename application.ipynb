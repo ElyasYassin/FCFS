{
 "cells": [
  {
   "cell_type": "markdown",
   "metadata": {},
   "source": [
    "<h1> <b> First-Come First-Serve "
   ]
  },
  {
   "cell_type": "markdown",
   "metadata": {},
   "source": [
    "<p> The modules imported were made by our team and can be accessed in fcfs.py"
   ]
  },
  {
   "cell_type": "code",
   "execution_count": 1,
   "metadata": {},
   "outputs": [],
   "source": [
    "from fcfs import Process, calculate_fcfs, print_process_info, get_processes_from_user, create_gantt_chart, plot_histograms"
   ]
  },
  {
   "cell_type": "markdown",
   "metadata": {},
   "source": [
    "<h2> Simulation"
   ]
  },
  {
   "cell_type": "code",
   "execution_count": 2,
   "metadata": {},
   "outputs": [],
   "source": [
    "process_list = [\n",
    "    Process(1, 0, 5),\n",
    "    Process(2, 1, 3),\n",
    "    Process(3, 2, 8),\n",
    "    Process(4, 3, 6),\n",
    "]"
   ]
  },
  {
   "cell_type": "code",
   "execution_count": 3,
   "metadata": {},
   "outputs": [
    {
     "name": "stdout",
     "output_type": "stream",
     "text": [
      "PID\tArrival\tBurst\tWaiting\tTurnaround\n",
      "2\t2\t2\t0\t2\n",
      "2\t2\t2\t2\t4\n",
      "\n",
      "Average Waiting Time: 1.0\n",
      "Average Turnaround Time: 3.0\n"
     ]
    }
   ],
   "source": [
    "process_list = get_processes_from_user()\n",
    "    \n",
    "# Calculate FCFS scheduling\n",
    "scheduled_processes = calculate_fcfs(process_list)\n",
    "    \n",
    "# Print results\n",
    "print_process_info(scheduled_processes)\n"
   ]
  },
  {
   "cell_type": "code",
   "execution_count": 4,
   "metadata": {},
   "outputs": [
    {
     "ename": "AttributeError",
     "evalue": "module 'matplotlib' has no attribute 'subplots'",
     "output_type": "error",
     "traceback": [
      "\u001b[1;31m---------------------------------------------------------------------------\u001b[0m",
      "\u001b[1;31mAttributeError\u001b[0m                            Traceback (most recent call last)",
      "Cell \u001b[1;32mIn[4], line 2\u001b[0m\n\u001b[0;32m      1\u001b[0m \u001b[38;5;66;03m# Display the Gantt Chart\u001b[39;00m\n\u001b[1;32m----> 2\u001b[0m \u001b[43mcreate_gantt_chart\u001b[49m\u001b[43m(\u001b[49m\u001b[43mprocess_list\u001b[49m\u001b[43m)\u001b[49m\n\u001b[0;32m      4\u001b[0m \u001b[38;5;66;03m# Display histograms\u001b[39;00m\n\u001b[0;32m      5\u001b[0m plot_histograms(process_list)\n",
      "File \u001b[1;32mc:\\Users\\Elyas\\OneDrive - The University of Colorado Denver\\Desktop\\li 9ra 9ra bekri\\Fall Semester 2024\\OptSys\\project\\fcfs.py:61\u001b[0m, in \u001b[0;36mcreate_gantt_chart\u001b[1;34m(processes)\u001b[0m\n\u001b[0;32m     60\u001b[0m \u001b[38;5;28;01mdef\u001b[39;00m \u001b[38;5;21mcreate_gantt_chart\u001b[39m(processes):\n\u001b[1;32m---> 61\u001b[0m     fig, gnt \u001b[38;5;241m=\u001b[39m \u001b[43mplt\u001b[49m\u001b[38;5;241;43m.\u001b[39;49m\u001b[43msubplots\u001b[49m()\n\u001b[0;32m     62\u001b[0m     gnt\u001b[38;5;241m.\u001b[39mset_xlabel(\u001b[38;5;124m'\u001b[39m\u001b[38;5;124mTime\u001b[39m\u001b[38;5;124m'\u001b[39m)\n\u001b[0;32m     63\u001b[0m     gnt\u001b[38;5;241m.\u001b[39mset_ylabel(\u001b[38;5;124m'\u001b[39m\u001b[38;5;124mProcesses\u001b[39m\u001b[38;5;124m'\u001b[39m)\n",
      "File \u001b[1;32mc:\\Users\\Elyas\\anaconda3\\envs\\myosuite\\lib\\site-packages\\matplotlib\\_api\\__init__.py:224\u001b[0m, in \u001b[0;36mcaching_module_getattr.<locals>.__getattr__\u001b[1;34m(name)\u001b[0m\n\u001b[0;32m    222\u001b[0m \u001b[38;5;28;01mif\u001b[39;00m name \u001b[38;5;129;01min\u001b[39;00m props:\n\u001b[0;32m    223\u001b[0m     \u001b[38;5;28;01mreturn\u001b[39;00m props[name]\u001b[38;5;241m.\u001b[39m\u001b[38;5;21m__get__\u001b[39m(instance)\n\u001b[1;32m--> 224\u001b[0m \u001b[38;5;28;01mraise\u001b[39;00m \u001b[38;5;167;01mAttributeError\u001b[39;00m(\n\u001b[0;32m    225\u001b[0m     \u001b[38;5;124mf\u001b[39m\u001b[38;5;124m\"\u001b[39m\u001b[38;5;124mmodule \u001b[39m\u001b[38;5;132;01m{\u001b[39;00m\u001b[38;5;28mcls\u001b[39m\u001b[38;5;241m.\u001b[39m\u001b[38;5;18m__module__\u001b[39m\u001b[38;5;132;01m!r}\u001b[39;00m\u001b[38;5;124m has no attribute \u001b[39m\u001b[38;5;132;01m{\u001b[39;00mname\u001b[38;5;132;01m!r}\u001b[39;00m\u001b[38;5;124m\"\u001b[39m)\n",
      "\u001b[1;31mAttributeError\u001b[0m: module 'matplotlib' has no attribute 'subplots'"
     ]
    }
   ],
   "source": [
    "# Display the Gantt Chart\n",
    "create_gantt_chart(process_list)\n",
    "\n",
    "# Display histograms\n",
    "plot_histograms(process_list)\n"
   ]
  },
  {
   "cell_type": "markdown",
   "metadata": {},
   "source": [
    "<h2> Visualization "
   ]
  },
  {
   "cell_type": "markdown",
   "metadata": {},
   "source": [
    "<p> Gantt Chart"
   ]
  },
  {
   "cell_type": "markdown",
   "metadata": {},
   "source": [
    "Waiting Time Histogram"
   ]
  },
  {
   "cell_type": "markdown",
   "metadata": {},
   "source": [
    "Turnaround Time"
   ]
  }
 ],
 "metadata": {
  "kernelspec": {
   "display_name": "myosuite",
   "language": "python",
   "name": "python3"
  },
  "language_info": {
   "codemirror_mode": {
    "name": "ipython",
    "version": 3
   },
   "file_extension": ".py",
   "mimetype": "text/x-python",
   "name": "python",
   "nbconvert_exporter": "python",
   "pygments_lexer": "ipython3",
   "version": "3.8.18"
  }
 },
 "nbformat": 4,
 "nbformat_minor": 2
}
